{
  "nbformat": 4,
  "nbformat_minor": 0,
  "metadata": {
    "colab": {
      "name": "정혜리_카드데이터_risk_resilience.ipynb",
      "provenance": [],
      "collapsed_sections": [],
      "include_colab_link": true
    },
    "kernelspec": {
      "name": "python3",
      "display_name": "Python 3"
    }
  },
  "cells": [
    {
      "cell_type": "markdown",
      "metadata": {
        "id": "view-in-github",
        "colab_type": "text"
      },
      "source": [
        "<a href=\"https://colab.research.google.com/github/esther-chung/econ2005/blob/master/%EC%BD%94%EB%A1%9C%EB%82%98_%EC%B9%B4%EB%93%9C%EB%8D%B0%EC%9D%B4%ED%84%B0.ipynb\" target=\"_parent\"><img src=\"https://colab.research.google.com/assets/colab-badge.svg\" alt=\"Open In Colab\"/></a>"
      ]
    },
    {
      "cell_type": "markdown",
      "metadata": {
        "id": "d9QPhC4-UgBm"
      },
      "source": [
        "# **카드데이터**"
      ]
    },
    {
      "cell_type": "code",
      "metadata": {
        "id": "RHPDsLI5hpGX"
      },
      "source": [
        "import warnings\n",
        "warnings.filterwarnings(\"ignore\")\n",
        "\n",
        "import matplotlib.pyplot as plt\n",
        "import matplotlib.dates as mdates\n",
        "import numpy as np\n",
        "import pandas as pd\n",
        "import seaborn as sns\n",
        "import math\n",
        "from datetime import date, timedelta\n",
        "\n",
        "%matplotlib inline"
      ],
      "execution_count": null,
      "outputs": []
    },
    {
      "cell_type": "code",
      "metadata": {
        "id": "xRz1xVywiFPY",
        "outputId": "ebd9fa99-0ba1-4938-e80a-df03faf63c10",
        "colab": {
          "base_uri": "https://localhost:8080/"
        }
      },
      "source": [
        "from google.colab import drive\n",
        "drive.mount('/content/drive')"
      ],
      "execution_count": null,
      "outputs": [
        {
          "output_type": "stream",
          "text": [
            "Mounted at /content/drive\n"
          ],
          "name": "stdout"
        }
      ]
    },
    {
      "cell_type": "code",
      "metadata": {
        "id": "RwwRpBgzh-i4"
      },
      "source": [
        "card = pd.read_csv('/content/drive/Shared drives/경제정보분석/KT_data_20200717/card_20200717.csv')"
      ],
      "execution_count": null,
      "outputs": []
    },
    {
      "cell_type": "code",
      "metadata": {
        "id": "2uZJq56UiUDy",
        "outputId": "801ef605-8804-4bfd-d15f-85dd15152e47",
        "colab": {
          "base_uri": "https://localhost:8080/",
          "height": 204
        }
      },
      "source": [
        "card.head()"
      ],
      "execution_count": null,
      "outputs": [
        {
          "output_type": "execute_result",
          "data": {
            "text/html": [
              "<div>\n",
              "<style scoped>\n",
              "    .dataframe tbody tr th:only-of-type {\n",
              "        vertical-align: middle;\n",
              "    }\n",
              "\n",
              "    .dataframe tbody tr th {\n",
              "        vertical-align: top;\n",
              "    }\n",
              "\n",
              "    .dataframe thead th {\n",
              "        text-align: right;\n",
              "    }\n",
              "</style>\n",
              "<table border=\"1\" class=\"dataframe\">\n",
              "  <thead>\n",
              "    <tr style=\"text-align: right;\">\n",
              "      <th></th>\n",
              "      <th>receipt_dttm</th>\n",
              "      <th>adstrd_code</th>\n",
              "      <th>adstrd_nm</th>\n",
              "      <th>mrhst_induty_cl_code</th>\n",
              "      <th>mrhst_induty_cl_nm</th>\n",
              "      <th>selng_cascnt</th>\n",
              "      <th>salamt</th>\n",
              "    </tr>\n",
              "  </thead>\n",
              "  <tbody>\n",
              "    <tr>\n",
              "      <th>0</th>\n",
              "      <td>20200104</td>\n",
              "      <td>1174066000</td>\n",
              "      <td>성내3동</td>\n",
              "      <td>7041</td>\n",
              "      <td>약국</td>\n",
              "      <td>463</td>\n",
              "      <td>5843230</td>\n",
              "    </tr>\n",
              "    <tr>\n",
              "      <th>1</th>\n",
              "      <td>20200104</td>\n",
              "      <td>1174066000</td>\n",
              "      <td>성내3동</td>\n",
              "      <td>7022</td>\n",
              "      <td>치과의원</td>\n",
              "      <td>33</td>\n",
              "      <td>7835550</td>\n",
              "    </tr>\n",
              "    <tr>\n",
              "      <th>2</th>\n",
              "      <td>20200104</td>\n",
              "      <td>1174066000</td>\n",
              "      <td>성내3동</td>\n",
              "      <td>7021</td>\n",
              "      <td>한의원</td>\n",
              "      <td>53</td>\n",
              "      <td>4589800</td>\n",
              "    </tr>\n",
              "    <tr>\n",
              "      <th>3</th>\n",
              "      <td>20200104</td>\n",
              "      <td>1174066000</td>\n",
              "      <td>성내3동</td>\n",
              "      <td>7020</td>\n",
              "      <td>의원</td>\n",
              "      <td>339</td>\n",
              "      <td>9267240</td>\n",
              "    </tr>\n",
              "    <tr>\n",
              "      <th>4</th>\n",
              "      <td>20200104</td>\n",
              "      <td>1174066000</td>\n",
              "      <td>성내3동</td>\n",
              "      <td>6110</td>\n",
              "      <td>자동차정비</td>\n",
              "      <td>19</td>\n",
              "      <td>4441000</td>\n",
              "    </tr>\n",
              "  </tbody>\n",
              "</table>\n",
              "</div>"
            ],
            "text/plain": [
              "   receipt_dttm  adstrd_code  ... selng_cascnt   salamt\n",
              "0      20200104   1174066000  ...          463  5843230\n",
              "1      20200104   1174066000  ...           33  7835550\n",
              "2      20200104   1174066000  ...           53  4589800\n",
              "3      20200104   1174066000  ...          339  9267240\n",
              "4      20200104   1174066000  ...           19  4441000\n",
              "\n",
              "[5 rows x 7 columns]"
            ]
          },
          "metadata": {
            "tags": []
          },
          "execution_count": 4
        }
      ]
    },
    {
      "cell_type": "markdown",
      "metadata": {
        "id": "1RhR9ffeUkxu"
      },
      "source": [
        "## **여행 관련 카테고리 (국내, 국외 포함)**"
      ]
    },
    {
      "cell_type": "code",
      "metadata": {
        "id": "896sJ--RcYuN"
      },
      "source": [
        "rentcar = card[card.mrhst_induty_cl_nm == '렌 트 카']\n",
        "dutyfree = card[card.mrhst_induty_cl_nm == '면 세 점']\n",
        "airline = card[card.mrhst_induty_cl_nm == '항 공 사']\n",
        "ferry = card[card.mrhst_induty_cl_nm == '여 객 선']\n",
        "bus = card[card.mrhst_induty_cl_nm == '고속 버스']\n",
        "tour = card[card.mrhst_induty_cl_nm == '관광여행']"
      ],
      "execution_count": null,
      "outputs": []
    },
    {
      "cell_type": "code",
      "metadata": {
        "id": "9V_RL_LQcfwn",
        "outputId": "0d3e95ef-7a20-416f-b3be-1f1bddf5bb01",
        "colab": {
          "base_uri": "https://localhost:8080/"
        }
      },
      "source": [
        "card.mrhst_induty_cl_nm.unique()"
      ],
      "execution_count": null,
      "outputs": [
        {
          "output_type": "execute_result",
          "data": {
            "text/plain": [
              "array(['약국', '치과의원', '한의원', '의원', '자동차정비', '기타 교육', '보습학원', '일반 서적', '정장',\n",
              "       '슈퍼 마켓', '편 의 점', '기타레져업', '노래방', '당구장', '헬스 크럽', '스포츠레져용품',\n",
              "       '기계 공구', '기타건축자재', '기타음료식품', '농축수산품', '정 육 점', '제과점', '스넥', '주점',\n",
              "       '서양음식', '중국음식', '일식회집', '일반한식', '화 장 품', '미 용 원', '주 차 장', '화   원',\n",
              "       '비 영 리', '레져업소(회원제형태)', '예체능학원', '문구용 품', '사진관', '단란주점', '악세 사리',\n",
              "       '기타숙박업', '세탁소', '유흥주점', '안경', '유아원', '기타잡화', '인터넷종합Mall', '대형할인점',\n",
              "       '애완 동물', '학원(회원제형태)', '사무서비스', '독서실', '외국어학원', '피부미용실',\n",
              "       '자사카드발행백화점', '영화관', '신   발', '내의판매점', '칵테일바', '기타대인서비스', '동물병원',\n",
              "       '사무통신기기수리', '기타사무용품', '통신 기기', '출판인쇄물', '가전 제품', '기타유통업',\n",
              "       '농축수산가공품', '종합용역', '병원', '기타가구', '자동차부품', '주 유 소', '안마/스포츠마사지',\n",
              "       '스크린골프', '의료 용품', '조세서비스(특약)', '조세서비스', '기타서적문구', '인터넷Mall',\n",
              "       '인터넷P/G', '기타전문점', '기타회원제형태업소4', '가정용품수리', '법률회계서비스(법인)', '소프트웨어',\n",
              "       '부동산중개/임대', '화물 운송', '혼례서비스', '기타건강식', '주류판매점', '위탁급식업', '사우나',\n",
              "       '미용 재료', '컴퓨터학원', '기타의류', '상품권', '골프연습장', '골프 용품', '관광여행', '유류 판매',\n",
              "       '스포츠의류', '특급 호텔', '귀 금 속', '맞춤복 점', '건축요업품', '기타전기제품', '일반 가구',\n",
              "       '가   방', 'CATV홈쇼핑', '종합병원', '침구수예점', '민예공예품', '법률회계서비스(개인)',\n",
              "       '악 기 점', '전자(상우회)', '컴 퓨 터', '완 구 점', '구내매점(국가기관등)', '택   시',\n",
              "       '자동차시트/타이어', '기타용역서비스', '홍삼 제품', '페 인 트', '보일러펌프샷시', '윤활유전문판매',\n",
              "       '조명 기구', '세 차 장', '과학기자재', '미곡상', '항 공 사', '주방 용구', '수입자동차',\n",
              "       '아동의류', '이 용 원', '기능학원', '인삼 제품', '한약방', '제 화 점', '기타직물', '화방표구점',\n",
              "       '주방용식기', '인테 리어', '옷감 직물', '이륜차판매', '카 메 라', '기념품 점', '상품권 전문판매',\n",
              "       '1급 호텔', '전자상거래 상품권 전문판매', '수 족 관', '티켓', '서적출판(회원제형태)', '시   계',\n",
              "       '화   랑', '전문 서적', '기타의료기관및기타의료기기', '2급 호텔', '문화취미기타', '성인용품점',\n",
              "       '손해 보험', 'PG 상품권', '면 세 점', '비씨카드정산용(할인)', '기타수리서비스', '생명 보험',\n",
              "       '통신판매(일반)', '사무 기기', '신변잡화수리', '비영리/비대상', '양 품 점', '이동통신요금',\n",
              "       '장례서비스', '카인테리어', 'L P G', '테니스 장', '유치원', '볼 링 장', '수 영 장',\n",
              "       '기타회원제형태업소1', '보관창고업', '치과병원', '렌 트 카', '산후조리원', '냉열 기기', '기타광학품',\n",
              "       '초중고교육기관', '한방병원', '유   리', '학습지교육', '정 수 기', '전자상거래 상품권',\n",
              "       '건강식품(회원제형태)', '기타보험', '레져용품수리', '정기간행물', '제약회사', '통신판매1', '갈비전문점',\n",
              "       '통신서비스/비대상', '공공요금/대상', '정보서비스', '단체복', '통신서비스', '종합레져타운', '여 객 선',\n",
              "       '사무서비스(회원제형태)', '연 쇄 점', '견인서비스', '기타교통수단', '기타회원제형태업소3', '한정식',\n",
              "       '철제 가구', '위성방송', '일반백화점', '부동산분양', '국산 신차', '전기차충전소',\n",
              "       '국산신차직영부품/정비업소', '공무원연금매점', '사업자미등록개인', '기타비영리유통', '기타주방용구',\n",
              "       '기타연료', '농기계', '비료/농약/사료/종자', '고속 버스', '공공 요금', '자동차서비스(회원제형태)',\n",
              "       '와이셔츠/타이', '캐쥬얼의류', '유학원', 'CATV', '기타자동차서비스', '건강진단', '중장비수리',\n",
              "       '골프경기장', '외국인전용가맹점', '카지노', '대학등록금', '중고자동차', '통신판매2',\n",
              "       '기타회원제형태업소5', '조산원', '스 키 장', '교육테이프', '골동품 점', '철   도', '기타 운송',\n",
              "       '콘   도', '피아노대리점', '혼수전문점', '기타회원제형태업소2', '기타농업관련', '자체물품대금',\n",
              "       '통신판매(생활서비스)', '통신기기무이자할부', '총포류판매', '택시회사', 'P2P송금', '중고자동차위탁판매'],\n",
              "      dtype=object)"
            ]
          },
          "metadata": {
            "tags": []
          },
          "execution_count": 6
        }
      ]
    },
    {
      "cell_type": "code",
      "metadata": {
        "id": "lsvXKlhbd_Fi"
      },
      "source": [
        ""
      ],
      "execution_count": null,
      "outputs": []
    },
    {
      "cell_type": "code",
      "metadata": {
        "id": "Gp0Bm6QneYI6",
        "outputId": "748be7b1-1dd5-452a-fa8d-84001c31214e",
        "colab": {
          "base_uri": "https://localhost:8080/",
          "height": 419
        }
      },
      "source": [
        "tour"
      ],
      "execution_count": null,
      "outputs": [
        {
          "output_type": "execute_result",
          "data": {
            "text/html": [
              "<div>\n",
              "<style scoped>\n",
              "    .dataframe tbody tr th:only-of-type {\n",
              "        vertical-align: middle;\n",
              "    }\n",
              "\n",
              "    .dataframe tbody tr th {\n",
              "        vertical-align: top;\n",
              "    }\n",
              "\n",
              "    .dataframe thead th {\n",
              "        text-align: right;\n",
              "    }\n",
              "</style>\n",
              "<table border=\"1\" class=\"dataframe\">\n",
              "  <thead>\n",
              "    <tr style=\"text-align: right;\">\n",
              "      <th></th>\n",
              "      <th>receipt_dttm</th>\n",
              "      <th>adstrd_code</th>\n",
              "      <th>adstrd_nm</th>\n",
              "      <th>mrhst_induty_cl_code</th>\n",
              "      <th>mrhst_induty_cl_nm</th>\n",
              "      <th>selng_cascnt</th>\n",
              "      <th>salamt</th>\n",
              "    </tr>\n",
              "  </thead>\n",
              "  <tbody>\n",
              "    <tr>\n",
              "      <th>1146</th>\n",
              "      <td>20200104</td>\n",
              "      <td>1168064000</td>\n",
              "      <td>역삼1동</td>\n",
              "      <td>1110</td>\n",
              "      <td>관광여행</td>\n",
              "      <td>64</td>\n",
              "      <td>14476000</td>\n",
              "    </tr>\n",
              "    <tr>\n",
              "      <th>2020</th>\n",
              "      <td>20200104</td>\n",
              "      <td>1165052000</td>\n",
              "      <td>서초2동</td>\n",
              "      <td>1110</td>\n",
              "      <td>관광여행</td>\n",
              "      <td>17</td>\n",
              "      <td>9581645</td>\n",
              "    </tr>\n",
              "    <tr>\n",
              "      <th>8398</th>\n",
              "      <td>20200104</td>\n",
              "      <td>1114055000</td>\n",
              "      <td>명동</td>\n",
              "      <td>1110</td>\n",
              "      <td>관광여행</td>\n",
              "      <td>620</td>\n",
              "      <td>353362379</td>\n",
              "    </tr>\n",
              "    <tr>\n",
              "      <th>8684</th>\n",
              "      <td>20200104</td>\n",
              "      <td>1111061500</td>\n",
              "      <td>종로1.2.3.4가동</td>\n",
              "      <td>1110</td>\n",
              "      <td>관광여행</td>\n",
              "      <td>349</td>\n",
              "      <td>455883605</td>\n",
              "    </tr>\n",
              "    <tr>\n",
              "      <th>8762</th>\n",
              "      <td>20200104</td>\n",
              "      <td>1111053000</td>\n",
              "      <td>사직동</td>\n",
              "      <td>1110</td>\n",
              "      <td>관광여행</td>\n",
              "      <td>13</td>\n",
              "      <td>18934475</td>\n",
              "    </tr>\n",
              "    <tr>\n",
              "      <th>...</th>\n",
              "      <td>...</td>\n",
              "      <td>...</td>\n",
              "      <td>...</td>\n",
              "      <td>...</td>\n",
              "      <td>...</td>\n",
              "      <td>...</td>\n",
              "      <td>...</td>\n",
              "    </tr>\n",
              "    <tr>\n",
              "      <th>3705350</th>\n",
              "      <td>20200614</td>\n",
              "      <td>1168064000</td>\n",
              "      <td>역삼1동</td>\n",
              "      <td>1110</td>\n",
              "      <td>관광여행</td>\n",
              "      <td>4</td>\n",
              "      <td>120000</td>\n",
              "    </tr>\n",
              "    <tr>\n",
              "      <th>3708061</th>\n",
              "      <td>20200614</td>\n",
              "      <td>1114055000</td>\n",
              "      <td>명동</td>\n",
              "      <td>1110</td>\n",
              "      <td>관광여행</td>\n",
              "      <td>44</td>\n",
              "      <td>2707000</td>\n",
              "    </tr>\n",
              "    <tr>\n",
              "      <th>3710111</th>\n",
              "      <td>20200614</td>\n",
              "      <td>1168053100</td>\n",
              "      <td>논현2동</td>\n",
              "      <td>1110</td>\n",
              "      <td>관광여행</td>\n",
              "      <td>2</td>\n",
              "      <td>100000</td>\n",
              "    </tr>\n",
              "    <tr>\n",
              "      <th>3712046</th>\n",
              "      <td>20200614</td>\n",
              "      <td>1162066500</td>\n",
              "      <td>서림동</td>\n",
              "      <td>1110</td>\n",
              "      <td>관광여행</td>\n",
              "      <td>3</td>\n",
              "      <td>2881500</td>\n",
              "    </tr>\n",
              "    <tr>\n",
              "      <th>3712087</th>\n",
              "      <td>20200614</td>\n",
              "      <td>1117068500</td>\n",
              "      <td>한남동</td>\n",
              "      <td>1110</td>\n",
              "      <td>관광여행</td>\n",
              "      <td>1</td>\n",
              "      <td>6000</td>\n",
              "    </tr>\n",
              "  </tbody>\n",
              "</table>\n",
              "<p>3980 rows × 7 columns</p>\n",
              "</div>"
            ],
            "text/plain": [
              "         receipt_dttm  adstrd_code  ... selng_cascnt     salamt\n",
              "1146         20200104   1168064000  ...           64   14476000\n",
              "2020         20200104   1165052000  ...           17    9581645\n",
              "8398         20200104   1114055000  ...          620  353362379\n",
              "8684         20200104   1111061500  ...          349  455883605\n",
              "8762         20200104   1111053000  ...           13   18934475\n",
              "...               ...          ...  ...          ...        ...\n",
              "3705350      20200614   1168064000  ...            4     120000\n",
              "3708061      20200614   1114055000  ...           44    2707000\n",
              "3710111      20200614   1168053100  ...            2     100000\n",
              "3712046      20200614   1162066500  ...            3    2881500\n",
              "3712087      20200614   1117068500  ...            1       6000\n",
              "\n",
              "[3980 rows x 7 columns]"
            ]
          },
          "metadata": {
            "tags": []
          },
          "execution_count": 7
        }
      ]
    },
    {
      "cell_type": "code",
      "metadata": {
        "id": "TBwQng_oeZe-",
        "outputId": "18c4d2e5-8b71-47e4-d7b7-004c15d20bad",
        "colab": {
          "base_uri": "https://localhost:8080/",
          "height": 419
        }
      },
      "source": [
        "import re\n",
        "from datetime import datetime, timedelta\n",
        "tour.index = np.arange(0,len(tour))\n",
        "tour_date_set = []\n",
        "for date in list(tour.receipt_dttm) :\n",
        "    date = str(date)\n",
        "    tour_date_set.append(datetime(year=int(date[0:4]), month=int(date[4:6]), day=int(date[6:8])))\n",
        "\n",
        "tour['date_set'] = tour_date_set\n",
        "tour"
      ],
      "execution_count": null,
      "outputs": [
        {
          "output_type": "execute_result",
          "data": {
            "text/html": [
              "<div>\n",
              "<style scoped>\n",
              "    .dataframe tbody tr th:only-of-type {\n",
              "        vertical-align: middle;\n",
              "    }\n",
              "\n",
              "    .dataframe tbody tr th {\n",
              "        vertical-align: top;\n",
              "    }\n",
              "\n",
              "    .dataframe thead th {\n",
              "        text-align: right;\n",
              "    }\n",
              "</style>\n",
              "<table border=\"1\" class=\"dataframe\">\n",
              "  <thead>\n",
              "    <tr style=\"text-align: right;\">\n",
              "      <th></th>\n",
              "      <th>receipt_dttm</th>\n",
              "      <th>adstrd_code</th>\n",
              "      <th>adstrd_nm</th>\n",
              "      <th>mrhst_induty_cl_code</th>\n",
              "      <th>mrhst_induty_cl_nm</th>\n",
              "      <th>selng_cascnt</th>\n",
              "      <th>salamt</th>\n",
              "      <th>date_set</th>\n",
              "    </tr>\n",
              "  </thead>\n",
              "  <tbody>\n",
              "    <tr>\n",
              "      <th>0</th>\n",
              "      <td>20200104</td>\n",
              "      <td>1168064000</td>\n",
              "      <td>역삼1동</td>\n",
              "      <td>1110</td>\n",
              "      <td>관광여행</td>\n",
              "      <td>64</td>\n",
              "      <td>14476000</td>\n",
              "      <td>2020-01-04</td>\n",
              "    </tr>\n",
              "    <tr>\n",
              "      <th>1</th>\n",
              "      <td>20200104</td>\n",
              "      <td>1165052000</td>\n",
              "      <td>서초2동</td>\n",
              "      <td>1110</td>\n",
              "      <td>관광여행</td>\n",
              "      <td>17</td>\n",
              "      <td>9581645</td>\n",
              "      <td>2020-01-04</td>\n",
              "    </tr>\n",
              "    <tr>\n",
              "      <th>2</th>\n",
              "      <td>20200104</td>\n",
              "      <td>1114055000</td>\n",
              "      <td>명동</td>\n",
              "      <td>1110</td>\n",
              "      <td>관광여행</td>\n",
              "      <td>620</td>\n",
              "      <td>353362379</td>\n",
              "      <td>2020-01-04</td>\n",
              "    </tr>\n",
              "    <tr>\n",
              "      <th>3</th>\n",
              "      <td>20200104</td>\n",
              "      <td>1111061500</td>\n",
              "      <td>종로1.2.3.4가동</td>\n",
              "      <td>1110</td>\n",
              "      <td>관광여행</td>\n",
              "      <td>349</td>\n",
              "      <td>455883605</td>\n",
              "      <td>2020-01-04</td>\n",
              "    </tr>\n",
              "    <tr>\n",
              "      <th>4</th>\n",
              "      <td>20200104</td>\n",
              "      <td>1111053000</td>\n",
              "      <td>사직동</td>\n",
              "      <td>1110</td>\n",
              "      <td>관광여행</td>\n",
              "      <td>13</td>\n",
              "      <td>18934475</td>\n",
              "      <td>2020-01-04</td>\n",
              "    </tr>\n",
              "    <tr>\n",
              "      <th>...</th>\n",
              "      <td>...</td>\n",
              "      <td>...</td>\n",
              "      <td>...</td>\n",
              "      <td>...</td>\n",
              "      <td>...</td>\n",
              "      <td>...</td>\n",
              "      <td>...</td>\n",
              "      <td>...</td>\n",
              "    </tr>\n",
              "    <tr>\n",
              "      <th>3975</th>\n",
              "      <td>20200614</td>\n",
              "      <td>1168064000</td>\n",
              "      <td>역삼1동</td>\n",
              "      <td>1110</td>\n",
              "      <td>관광여행</td>\n",
              "      <td>4</td>\n",
              "      <td>120000</td>\n",
              "      <td>2020-06-14</td>\n",
              "    </tr>\n",
              "    <tr>\n",
              "      <th>3976</th>\n",
              "      <td>20200614</td>\n",
              "      <td>1114055000</td>\n",
              "      <td>명동</td>\n",
              "      <td>1110</td>\n",
              "      <td>관광여행</td>\n",
              "      <td>44</td>\n",
              "      <td>2707000</td>\n",
              "      <td>2020-06-14</td>\n",
              "    </tr>\n",
              "    <tr>\n",
              "      <th>3977</th>\n",
              "      <td>20200614</td>\n",
              "      <td>1168053100</td>\n",
              "      <td>논현2동</td>\n",
              "      <td>1110</td>\n",
              "      <td>관광여행</td>\n",
              "      <td>2</td>\n",
              "      <td>100000</td>\n",
              "      <td>2020-06-14</td>\n",
              "    </tr>\n",
              "    <tr>\n",
              "      <th>3978</th>\n",
              "      <td>20200614</td>\n",
              "      <td>1162066500</td>\n",
              "      <td>서림동</td>\n",
              "      <td>1110</td>\n",
              "      <td>관광여행</td>\n",
              "      <td>3</td>\n",
              "      <td>2881500</td>\n",
              "      <td>2020-06-14</td>\n",
              "    </tr>\n",
              "    <tr>\n",
              "      <th>3979</th>\n",
              "      <td>20200614</td>\n",
              "      <td>1117068500</td>\n",
              "      <td>한남동</td>\n",
              "      <td>1110</td>\n",
              "      <td>관광여행</td>\n",
              "      <td>1</td>\n",
              "      <td>6000</td>\n",
              "      <td>2020-06-14</td>\n",
              "    </tr>\n",
              "  </tbody>\n",
              "</table>\n",
              "<p>3980 rows × 8 columns</p>\n",
              "</div>"
            ],
            "text/plain": [
              "      receipt_dttm  adstrd_code  ...     salamt   date_set\n",
              "0         20200104   1168064000  ...   14476000 2020-01-04\n",
              "1         20200104   1165052000  ...    9581645 2020-01-04\n",
              "2         20200104   1114055000  ...  353362379 2020-01-04\n",
              "3         20200104   1111061500  ...  455883605 2020-01-04\n",
              "4         20200104   1111053000  ...   18934475 2020-01-04\n",
              "...            ...          ...  ...        ...        ...\n",
              "3975      20200614   1168064000  ...     120000 2020-06-14\n",
              "3976      20200614   1114055000  ...    2707000 2020-06-14\n",
              "3977      20200614   1168053100  ...     100000 2020-06-14\n",
              "3978      20200614   1162066500  ...    2881500 2020-06-14\n",
              "3979      20200614   1117068500  ...       6000 2020-06-14\n",
              "\n",
              "[3980 rows x 8 columns]"
            ]
          },
          "metadata": {
            "tags": []
          },
          "execution_count": 8
        }
      ]
    },
    {
      "cell_type": "code",
      "metadata": {
        "id": "AeRtRS3DnWT0"
      },
      "source": [
        "\n",
        "tour[\"month\"] = tour['date_set'].map(lambda x: x.month)"
      ],
      "execution_count": null,
      "outputs": []
    },
    {
      "cell_type": "code",
      "metadata": {
        "id": "71YBSWq-n142",
        "outputId": "465bd649-110d-4f0a-ef36-9d3322dbefb2",
        "colab": {
          "base_uri": "https://localhost:8080/"
        }
      },
      "source": [
        "tour_monthly = tour.groupby(['month'])\n",
        "for group in tour_monthly:\n",
        "    print(group)"
      ],
      "execution_count": null,
      "outputs": [
        {
          "output_type": "stream",
          "text": [
            "(1,      receipt_dttm  adstrd_code    adstrd_nm  ...     salamt   date_set  month\n",
            "0        20200104   1168064000         역삼1동  ...   14476000 2020-01-04      1\n",
            "1        20200104   1165052000         서초2동  ...    9581645 2020-01-04      1\n",
            "2        20200104   1114055000           명동  ...  353362379 2020-01-04      1\n",
            "3        20200104   1111061500  종로1.2.3.4가동  ...  455883605 2020-01-04      1\n",
            "4        20200104   1111053000          사직동  ...   18934475 2020-01-04      1\n",
            "..            ...          ...          ...  ...        ...        ...    ...\n",
            "446      20200131   1162064500          서원동  ...     225000 2020-01-31      1\n",
            "447      20200131   1168061000         대치2동  ...    3000000 2020-01-31      1\n",
            "448      20200131   1168054500         압구정동  ...    3439400 2020-01-31      1\n",
            "449      20200131   1111053000          사직동  ...   17986220 2020-01-31      1\n",
            "450      20200131   1114052000          소공동  ...     677000 2020-01-31      1\n",
            "\n",
            "[451 rows x 9 columns])\n",
            "(2,       receipt_dttm  adstrd_code adstrd_nm  ...    salamt   date_set  month\n",
            "451       20200201   1165052000      서초2동  ...   3588392 2020-02-01      2\n",
            "452       20200201   1120069000    성수2가3동  ...    120000 2020-02-01      2\n",
            "453       20200201   1171064200      문정2동  ...   2155000 2020-02-01      2\n",
            "454       20200201   1156054000       여의동  ...  15069400 2020-02-01      2\n",
            "455       20200201   1111053000       사직동  ...   1645600 2020-02-01      2\n",
            "...            ...          ...       ...  ...       ...        ...    ...\n",
            "1215      20200229   1168058000      삼성1동  ...    157000 2020-02-29      2\n",
            "1216      20200229   1114054000       회현동  ...     41000 2020-02-29      2\n",
            "1217      20200229   1144065500       서강동  ...   7922000 2020-02-29      2\n",
            "1218      20200229   1117053000       남영동  ...      7500 2020-02-29      2\n",
            "1219      20200229   1165053100      서초4동  ...   3500000 2020-02-29      2\n",
            "\n",
            "[769 rows x 9 columns])\n",
            "(3,       receipt_dttm  adstrd_code adstrd_nm  ...   salamt   date_set  month\n",
            "1220      20200301   1156060500       문래동  ...   528000 2020-03-01      3\n",
            "1221      20200301   1117053000       남영동  ...     7500 2020-03-01      3\n",
            "1222      20200301   1168058000      삼성1동  ...   482500 2020-03-01      3\n",
            "1223      20200301   1168052100      논현1동  ...   390000 2020-03-01      3\n",
            "1224      20200301   1123065000      장안1동  ...   150000 2020-03-01      3\n",
            "...            ...          ...       ...  ...      ...        ...    ...\n",
            "2056      20200331   1153059500      가리봉동  ...    70000 2020-03-31      3\n",
            "2057      20200331   1165053000      서초3동  ...  8416635 2020-03-31      3\n",
            "2058      20200331   1123065000      장안1동  ...    50000 2020-03-31      3\n",
            "2059      20200331   1168052100      논현1동  ...    24770 2020-03-31      3\n",
            "2060      20200331   1168064000      역삼1동  ...  -721800 2020-03-31      3\n",
            "\n",
            "[841 rows x 9 columns])\n",
            "(4,       receipt_dttm  adstrd_code adstrd_nm  ...    salamt   date_set  month\n",
            "2061      20200401   1165053000      서초3동  ...   4000000 2020-04-01      4\n",
            "2062      20200401   1165052000      서초2동  ...  16500000 2020-04-01      4\n",
            "2063      20200401   1159056000      상도4동  ...  -7500000 2020-04-01      4\n",
            "2064      20200401   1168065000      역삼2동  ...  -2420700 2020-04-01      4\n",
            "2065      20200401   1114052000       소공동  ...      7000 2020-04-01      4\n",
            "...            ...          ...       ...  ...       ...        ...    ...\n",
            "2795      20200430   1117053000       남영동  ...   2800000 2020-04-30      4\n",
            "2796      20200430   1159067000     신대방1동  ...      5000 2020-04-30      4\n",
            "2797      20200430   1144072000      성산1동  ...    950000 2020-04-30      4\n",
            "2798      20200430   1123065000      장안1동  ...     55000 2020-04-30      4\n",
            "2799      20200430   1114059000       광희동  ...    123300 2020-04-30      4\n",
            "\n",
            "[739 rows x 9 columns])\n",
            "(5,       receipt_dttm  adstrd_code adstrd_nm  ...    salamt   date_set  month\n",
            "2800      20200501   1117055500       청파동  ...    134000 2020-05-01      5\n",
            "2801      20200501   1144066000       서교동  ...     26000 2020-05-01      5\n",
            "2802      20200501   1114055000        명동  ...  11787057 2020-05-01      5\n",
            "2803      20200501   1168058000      삼성1동  ...    151000 2020-05-01      5\n",
            "2804      20200501   1154551000       가산동  ...   1423000 2020-05-01      5\n",
            "...            ...          ...       ...  ...       ...        ...    ...\n",
            "3604      20200531   1117065000     이태원1동  ...     89300 2020-05-31      5\n",
            "3605      20200531   1162072500       조원동  ...     45000 2020-05-31      5\n",
            "3606      20200531   1153059500      가리봉동  ...     44000 2020-05-31      5\n",
            "3607      20200531   1144066000       서교동  ...     19000 2020-05-31      5\n",
            "3608      20200531   1123056000      전농1동  ...   1078000 2020-05-31      5\n",
            "\n",
            "[809 rows x 9 columns])\n",
            "(6,       receipt_dttm  adstrd_code adstrd_nm  ...    salamt   date_set  month\n",
            "3609      20200601   1165065100      양재1동  ...   2743400 2020-06-01      6\n",
            "3610      20200601   1156066000      신길4동  ...    809000 2020-06-01      6\n",
            "3611      20200601   1168058000      삼성1동  ...    589000 2020-06-01      6\n",
            "3612      20200601   1156053500      영등포동  ...     17000 2020-06-01      6\n",
            "3613      20200601   1168052100      논현1동  ...  68857140 2020-06-01      6\n",
            "...            ...          ...       ...  ...       ...        ...    ...\n",
            "3975      20200614   1168064000      역삼1동  ...    120000 2020-06-14      6\n",
            "3976      20200614   1114055000        명동  ...   2707000 2020-06-14      6\n",
            "3977      20200614   1168053100      논현2동  ...    100000 2020-06-14      6\n",
            "3978      20200614   1162066500       서림동  ...   2881500 2020-06-14      6\n",
            "3979      20200614   1117068500       한남동  ...      6000 2020-06-14      6\n",
            "\n",
            "[371 rows x 9 columns])\n"
          ],
          "name": "stdout"
        }
      ]
    },
    {
      "cell_type": "code",
      "metadata": {
        "id": "bByLh4sZsoVK"
      },
      "source": [
        "#plt.plot(np.arange(1,7), tour_amount)"
      ],
      "execution_count": null,
      "outputs": []
    },
    {
      "cell_type": "code",
      "metadata": {
        "id": "_ACxaDj8wslt"
      },
      "source": [
        "tour_sum = tour.groupby(tour.month).sum()"
      ],
      "execution_count": null,
      "outputs": []
    },
    {
      "cell_type": "code",
      "metadata": {
        "id": "IuE2fVWVSZMH",
        "outputId": "02ac467a-db2c-402d-c3d7-a49e7b302b08",
        "colab": {
          "base_uri": "https://localhost:8080/",
          "height": 266
        }
      },
      "source": [
        "tour_sum"
      ],
      "execution_count": null,
      "outputs": [
        {
          "output_type": "execute_result",
          "data": {
            "text/html": [
              "<div>\n",
              "<style scoped>\n",
              "    .dataframe tbody tr th:only-of-type {\n",
              "        vertical-align: middle;\n",
              "    }\n",
              "\n",
              "    .dataframe tbody tr th {\n",
              "        vertical-align: top;\n",
              "    }\n",
              "\n",
              "    .dataframe thead th {\n",
              "        text-align: right;\n",
              "    }\n",
              "</style>\n",
              "<table border=\"1\" class=\"dataframe\">\n",
              "  <thead>\n",
              "    <tr style=\"text-align: right;\">\n",
              "      <th></th>\n",
              "      <th>receipt_dttm</th>\n",
              "      <th>adstrd_code</th>\n",
              "      <th>mrhst_induty_cl_code</th>\n",
              "      <th>selng_cascnt</th>\n",
              "      <th>salamt</th>\n",
              "    </tr>\n",
              "    <tr>\n",
              "      <th>month</th>\n",
              "      <th></th>\n",
              "      <th></th>\n",
              "      <th></th>\n",
              "      <th></th>\n",
              "      <th></th>\n",
              "    </tr>\n",
              "  </thead>\n",
              "  <tbody>\n",
              "    <tr>\n",
              "      <th>1</th>\n",
              "      <td>9110256124</td>\n",
              "      <td>514817527300</td>\n",
              "      <td>500610</td>\n",
              "      <td>18659</td>\n",
              "      <td>14515564097</td>\n",
              "    </tr>\n",
              "    <tr>\n",
              "      <th>2</th>\n",
              "      <td>15533966906</td>\n",
              "      <td>880011659600</td>\n",
              "      <td>853590</td>\n",
              "      <td>8262</td>\n",
              "      <td>3077039119</td>\n",
              "    </tr>\n",
              "    <tr>\n",
              "      <th>3</th>\n",
              "      <td>16988465625</td>\n",
              "      <td>962346474000</td>\n",
              "      <td>933510</td>\n",
              "      <td>8421</td>\n",
              "      <td>730158781</td>\n",
              "    </tr>\n",
              "    <tr>\n",
              "      <th>4</th>\n",
              "      <td>14928107170</td>\n",
              "      <td>844627680400</td>\n",
              "      <td>820290</td>\n",
              "      <td>5728</td>\n",
              "      <td>1451840918</td>\n",
              "    </tr>\n",
              "    <tr>\n",
              "      <th>5</th>\n",
              "      <td>16342218001</td>\n",
              "      <td>925557838000</td>\n",
              "      <td>897990</td>\n",
              "      <td>6378</td>\n",
              "      <td>1605042749</td>\n",
              "    </tr>\n",
              "    <tr>\n",
              "      <th>6</th>\n",
              "      <td>7494425320</td>\n",
              "      <td>424281459300</td>\n",
              "      <td>411810</td>\n",
              "      <td>3476</td>\n",
              "      <td>656722616</td>\n",
              "    </tr>\n",
              "  </tbody>\n",
              "</table>\n",
              "</div>"
            ],
            "text/plain": [
              "       receipt_dttm   adstrd_code  ...  selng_cascnt       salamt\n",
              "month                              ...                           \n",
              "1        9110256124  514817527300  ...         18659  14515564097\n",
              "2       15533966906  880011659600  ...          8262   3077039119\n",
              "3       16988465625  962346474000  ...          8421    730158781\n",
              "4       14928107170  844627680400  ...          5728   1451840918\n",
              "5       16342218001  925557838000  ...          6378   1605042749\n",
              "6        7494425320  424281459300  ...          3476    656722616\n",
              "\n",
              "[6 rows x 5 columns]"
            ]
          },
          "metadata": {
            "tags": []
          },
          "execution_count": 13
        }
      ]
    },
    {
      "cell_type": "code",
      "metadata": {
        "id": "p_8v8NLtTFbq"
      },
      "source": [
        "#6월의 경우, 데이터가 14일까지 존재하므로 임의로 30/14배를 곱한 값을 부여함\n",
        "rate = (float(30)/14)\n",
        "tour_sum['salamt'][6] *= rate"
      ],
      "execution_count": null,
      "outputs": []
    },
    {
      "cell_type": "code",
      "metadata": {
        "id": "0RA8fZypT6jd",
        "outputId": "887cb155-18da-4aef-dbd2-e3cbb78aa665",
        "colab": {
          "base_uri": "https://localhost:8080/",
          "height": 266
        }
      },
      "source": [
        "tour_sum"
      ],
      "execution_count": null,
      "outputs": [
        {
          "output_type": "execute_result",
          "data": {
            "text/html": [
              "<div>\n",
              "<style scoped>\n",
              "    .dataframe tbody tr th:only-of-type {\n",
              "        vertical-align: middle;\n",
              "    }\n",
              "\n",
              "    .dataframe tbody tr th {\n",
              "        vertical-align: top;\n",
              "    }\n",
              "\n",
              "    .dataframe thead th {\n",
              "        text-align: right;\n",
              "    }\n",
              "</style>\n",
              "<table border=\"1\" class=\"dataframe\">\n",
              "  <thead>\n",
              "    <tr style=\"text-align: right;\">\n",
              "      <th></th>\n",
              "      <th>receipt_dttm</th>\n",
              "      <th>adstrd_code</th>\n",
              "      <th>mrhst_induty_cl_code</th>\n",
              "      <th>selng_cascnt</th>\n",
              "      <th>salamt</th>\n",
              "    </tr>\n",
              "    <tr>\n",
              "      <th>month</th>\n",
              "      <th></th>\n",
              "      <th></th>\n",
              "      <th></th>\n",
              "      <th></th>\n",
              "      <th></th>\n",
              "    </tr>\n",
              "  </thead>\n",
              "  <tbody>\n",
              "    <tr>\n",
              "      <th>1</th>\n",
              "      <td>9110256124</td>\n",
              "      <td>514817527300</td>\n",
              "      <td>500610</td>\n",
              "      <td>18659</td>\n",
              "      <td>14515564097</td>\n",
              "    </tr>\n",
              "    <tr>\n",
              "      <th>2</th>\n",
              "      <td>15533966906</td>\n",
              "      <td>880011659600</td>\n",
              "      <td>853590</td>\n",
              "      <td>8262</td>\n",
              "      <td>3077039119</td>\n",
              "    </tr>\n",
              "    <tr>\n",
              "      <th>3</th>\n",
              "      <td>16988465625</td>\n",
              "      <td>962346474000</td>\n",
              "      <td>933510</td>\n",
              "      <td>8421</td>\n",
              "      <td>730158781</td>\n",
              "    </tr>\n",
              "    <tr>\n",
              "      <th>4</th>\n",
              "      <td>14928107170</td>\n",
              "      <td>844627680400</td>\n",
              "      <td>820290</td>\n",
              "      <td>5728</td>\n",
              "      <td>1451840918</td>\n",
              "    </tr>\n",
              "    <tr>\n",
              "      <th>5</th>\n",
              "      <td>16342218001</td>\n",
              "      <td>925557838000</td>\n",
              "      <td>897990</td>\n",
              "      <td>6378</td>\n",
              "      <td>1605042749</td>\n",
              "    </tr>\n",
              "    <tr>\n",
              "      <th>6</th>\n",
              "      <td>7494425320</td>\n",
              "      <td>424281459300</td>\n",
              "      <td>411810</td>\n",
              "      <td>3476</td>\n",
              "      <td>1407262748</td>\n",
              "    </tr>\n",
              "  </tbody>\n",
              "</table>\n",
              "</div>"
            ],
            "text/plain": [
              "       receipt_dttm   adstrd_code  ...  selng_cascnt       salamt\n",
              "month                              ...                           \n",
              "1        9110256124  514817527300  ...         18659  14515564097\n",
              "2       15533966906  880011659600  ...          8262   3077039119\n",
              "3       16988465625  962346474000  ...          8421    730158781\n",
              "4       14928107170  844627680400  ...          5728   1451840918\n",
              "5       16342218001  925557838000  ...          6378   1605042749\n",
              "6        7494425320  424281459300  ...          3476   1407262748\n",
              "\n",
              "[6 rows x 5 columns]"
            ]
          },
          "metadata": {
            "tags": []
          },
          "execution_count": 15
        }
      ]
    },
    {
      "cell_type": "code",
      "metadata": {
        "id": "6xQelqNeXt3F"
      },
      "source": [
        "#같은 작업을 다른 카테고리에 대해서도 반복\n",
        "\n",
        "#rentcar\n",
        "rentcar.index = np.arange(0,len(rentcar))\n",
        "rentcar_date_set = []\n",
        "for date in list(rentcar.receipt_dttm) :\n",
        "    date = str(date)\n",
        "    rentcar_date_set.append(datetime(year=int(date[0:4]), month=int(date[4:6]), day=int(date[6:8])))\n",
        "\n",
        "rentcar['date_set'] = rentcar_date_set\n",
        "rentcar[\"month\"] = rentcar['date_set'].map(lambda x: x.month)\n",
        "rentcar_sum = rentcar.groupby(rentcar.month).sum()\n",
        "rate = (float(30)/14)\n",
        "rentcar_sum['salamt'][6] *= rate\n",
        "\n",
        "#dutyfree\n",
        "dutyfree.index = np.arange(0,len(dutyfree))\n",
        "dutyfree_date_set = []\n",
        "for date in list(dutyfree.receipt_dttm) :\n",
        "    date = str(date)\n",
        "    dutyfree_date_set.append(datetime(year=int(date[0:4]), month=int(date[4:6]), day=int(date[6:8])))\n",
        "\n",
        "dutyfree['date_set'] = dutyfree_date_set\n",
        "dutyfree[\"month\"] = dutyfree['date_set'].map(lambda x: x.month)\n",
        "dutyfree_sum = dutyfree.groupby(dutyfree.month).sum()\n",
        "rate = (float(30)/14)\n",
        "dutyfree_sum['salamt'][6] *= rate\n",
        "\n",
        "#airline\n",
        "airline.index = np.arange(0,len(airline))\n",
        "airline_date_set = []\n",
        "for date in list(airline.receipt_dttm) :\n",
        "    date = str(date)\n",
        "    airline_date_set.append(datetime(year=int(date[0:4]), month=int(date[4:6]), day=int(date[6:8])))\n",
        "\n",
        "airline['date_set'] = airline_date_set\n",
        "airline[\"month\"] = airline['date_set'].map(lambda x: x.month)\n",
        "airline_sum = airline.groupby(airline.month).sum()\n",
        "rate = (float(30)/14)\n",
        "airline_sum['salamt'][6] *= rate\n",
        "\n",
        "#ferry\n",
        "ferry.index = np.arange(0,len(ferry))\n",
        "ferry_date_set = []\n",
        "for date in list(ferry.receipt_dttm) :\n",
        "    date = str(date)\n",
        "    ferry_date_set.append(datetime(year=int(date[0:4]), month=int(date[4:6]), day=int(date[6:8])))\n",
        "\n",
        "ferry['date_set'] = ferry_date_set\n",
        "ferry[\"month\"] = ferry['date_set'].map(lambda x: x.month)\n",
        "ferry_sum = ferry.groupby(ferry.month).sum()\n",
        "rate = (float(30)/14)\n",
        "ferry_sum['salamt'][6] *= rate\n",
        "\n",
        "#bus\n",
        "bus.index = np.arange(0,len(bus))\n",
        "bus_date_set = []\n",
        "for date in list(bus.receipt_dttm) :\n",
        "    date = str(date)\n",
        "    bus_date_set.append(datetime(year=int(date[0:4]), month=int(date[4:6]), day=int(date[6:8])))\n",
        "\n",
        "bus['date_set'] = bus_date_set\n",
        "bus[\"month\"] = bus['date_set'].map(lambda x: x.month)\n",
        "bus_sum = bus.groupby(bus.month).sum()\n",
        "rate = (float(30)/14)\n",
        "bus_sum['salamt'][6] *= rate\n"
      ],
      "execution_count": null,
      "outputs": []
    },
    {
      "cell_type": "code",
      "metadata": {
        "id": "xYViVBaQVL8y",
        "outputId": "bcf117d5-3f46-442c-a435-cbd43c7b3d13",
        "colab": {
          "base_uri": "https://localhost:8080/",
          "height": 266
        }
      },
      "source": [
        "rentcar_sum"
      ],
      "execution_count": null,
      "outputs": [
        {
          "output_type": "execute_result",
          "data": {
            "text/html": [
              "<div>\n",
              "<style scoped>\n",
              "    .dataframe tbody tr th:only-of-type {\n",
              "        vertical-align: middle;\n",
              "    }\n",
              "\n",
              "    .dataframe tbody tr th {\n",
              "        vertical-align: top;\n",
              "    }\n",
              "\n",
              "    .dataframe thead th {\n",
              "        text-align: right;\n",
              "    }\n",
              "</style>\n",
              "<table border=\"1\" class=\"dataframe\">\n",
              "  <thead>\n",
              "    <tr style=\"text-align: right;\">\n",
              "      <th></th>\n",
              "      <th>receipt_dttm</th>\n",
              "      <th>adstrd_code</th>\n",
              "      <th>mrhst_induty_cl_code</th>\n",
              "      <th>selng_cascnt</th>\n",
              "      <th>salamt</th>\n",
              "    </tr>\n",
              "    <tr>\n",
              "      <th>month</th>\n",
              "      <th></th>\n",
              "      <th></th>\n",
              "      <th></th>\n",
              "      <th></th>\n",
              "      <th></th>\n",
              "    </tr>\n",
              "  </thead>\n",
              "  <tbody>\n",
              "    <tr>\n",
              "      <th>1</th>\n",
              "      <td>9251657807</td>\n",
              "      <td>525382077700</td>\n",
              "      <td>517540</td>\n",
              "      <td>2805</td>\n",
              "      <td>1062554535</td>\n",
              "    </tr>\n",
              "    <tr>\n",
              "      <th>2</th>\n",
              "      <td>18826602287</td>\n",
              "      <td>1069955747100</td>\n",
              "      <td>1053160</td>\n",
              "      <td>6099</td>\n",
              "      <td>2132705868</td>\n",
              "    </tr>\n",
              "    <tr>\n",
              "      <th>3</th>\n",
              "      <td>25553399908</td>\n",
              "      <td>1451803810400</td>\n",
              "      <td>1429450</td>\n",
              "      <td>7055</td>\n",
              "      <td>2438105735</td>\n",
              "    </tr>\n",
              "    <tr>\n",
              "      <th>4</th>\n",
              "      <td>26644348562</td>\n",
              "      <td>1513537882900</td>\n",
              "      <td>1490470</td>\n",
              "      <td>7868</td>\n",
              "      <td>2856342632</td>\n",
              "    </tr>\n",
              "    <tr>\n",
              "      <th>5</th>\n",
              "      <td>30704784656</td>\n",
              "      <td>1743017893000</td>\n",
              "      <td>1717600</td>\n",
              "      <td>8817</td>\n",
              "      <td>2770062161</td>\n",
              "    </tr>\n",
              "    <tr>\n",
              "      <th>6</th>\n",
              "      <td>13453604731</td>\n",
              "      <td>763972168100</td>\n",
              "      <td>752580</td>\n",
              "      <td>4025</td>\n",
              "      <td>2161188927</td>\n",
              "    </tr>\n",
              "  </tbody>\n",
              "</table>\n",
              "</div>"
            ],
            "text/plain": [
              "       receipt_dttm    adstrd_code  ...  selng_cascnt      salamt\n",
              "month                               ...                          \n",
              "1        9251657807   525382077700  ...          2805  1062554535\n",
              "2       18826602287  1069955747100  ...          6099  2132705868\n",
              "3       25553399908  1451803810400  ...          7055  2438105735\n",
              "4       26644348562  1513537882900  ...          7868  2856342632\n",
              "5       30704784656  1743017893000  ...          8817  2770062161\n",
              "6       13453604731   763972168100  ...          4025  2161188927\n",
              "\n",
              "[6 rows x 5 columns]"
            ]
          },
          "metadata": {
            "tags": []
          },
          "execution_count": 17
        }
      ]
    },
    {
      "cell_type": "code",
      "metadata": {
        "id": "nSyZjej-XKdi",
        "outputId": "6d8904c8-3448-43b6-cfc3-b88bb471eaba",
        "colab": {
          "base_uri": "https://localhost:8080/",
          "height": 266
        }
      },
      "source": [
        "airline_sum"
      ],
      "execution_count": null,
      "outputs": [
        {
          "output_type": "execute_result",
          "data": {
            "text/html": [
              "<div>\n",
              "<style scoped>\n",
              "    .dataframe tbody tr th:only-of-type {\n",
              "        vertical-align: middle;\n",
              "    }\n",
              "\n",
              "    .dataframe tbody tr th {\n",
              "        vertical-align: top;\n",
              "    }\n",
              "\n",
              "    .dataframe thead th {\n",
              "        text-align: right;\n",
              "    }\n",
              "</style>\n",
              "<table border=\"1\" class=\"dataframe\">\n",
              "  <thead>\n",
              "    <tr style=\"text-align: right;\">\n",
              "      <th></th>\n",
              "      <th>receipt_dttm</th>\n",
              "      <th>adstrd_code</th>\n",
              "      <th>mrhst_induty_cl_code</th>\n",
              "      <th>selng_cascnt</th>\n",
              "      <th>salamt</th>\n",
              "    </tr>\n",
              "    <tr>\n",
              "      <th>month</th>\n",
              "      <th></th>\n",
              "      <th></th>\n",
              "      <th></th>\n",
              "      <th></th>\n",
              "      <th></th>\n",
              "    </tr>\n",
              "  </thead>\n",
              "  <tbody>\n",
              "    <tr>\n",
              "      <th>1</th>\n",
              "      <td>3151218947</td>\n",
              "      <td>176144921600</td>\n",
              "      <td>171756</td>\n",
              "      <td>159455</td>\n",
              "      <td>84021067185</td>\n",
              "    </tr>\n",
              "    <tr>\n",
              "      <th>2</th>\n",
              "      <td>3979442782</td>\n",
              "      <td>223069249300</td>\n",
              "      <td>216897</td>\n",
              "      <td>47955</td>\n",
              "      <td>21209839685</td>\n",
              "    </tr>\n",
              "    <tr>\n",
              "      <th>3</th>\n",
              "      <td>4403668760</td>\n",
              "      <td>246386199000</td>\n",
              "      <td>240018</td>\n",
              "      <td>40542</td>\n",
              "      <td>-6197703234</td>\n",
              "    </tr>\n",
              "    <tr>\n",
              "      <th>4</th>\n",
              "      <td>3131064315</td>\n",
              "      <td>174817679500</td>\n",
              "      <td>170655</td>\n",
              "      <td>58777</td>\n",
              "      <td>-4320286708</td>\n",
              "    </tr>\n",
              "    <tr>\n",
              "      <th>5</th>\n",
              "      <td>3131080017</td>\n",
              "      <td>175126649300</td>\n",
              "      <td>170655</td>\n",
              "      <td>89594</td>\n",
              "      <td>8880507006</td>\n",
              "    </tr>\n",
              "    <tr>\n",
              "      <th>6</th>\n",
              "      <td>1434243101</td>\n",
              "      <td>80120973000</td>\n",
              "      <td>78171</td>\n",
              "      <td>43395</td>\n",
              "      <td>11712835032</td>\n",
              "    </tr>\n",
              "  </tbody>\n",
              "</table>\n",
              "</div>"
            ],
            "text/plain": [
              "       receipt_dttm   adstrd_code  ...  selng_cascnt       salamt\n",
              "month                              ...                           \n",
              "1        3151218947  176144921600  ...        159455  84021067185\n",
              "2        3979442782  223069249300  ...         47955  21209839685\n",
              "3        4403668760  246386199000  ...         40542  -6197703234\n",
              "4        3131064315  174817679500  ...         58777  -4320286708\n",
              "5        3131080017  175126649300  ...         89594   8880507006\n",
              "6        1434243101   80120973000  ...         43395  11712835032\n",
              "\n",
              "[6 rows x 5 columns]"
            ]
          },
          "metadata": {
            "tags": []
          },
          "execution_count": 18
        }
      ]
    },
    {
      "cell_type": "code",
      "metadata": {
        "id": "zK0FEfnE95gr",
        "outputId": "3154b184-a964-4feb-b463-e46c63c10bb4",
        "colab": {
          "base_uri": "https://localhost:8080/",
          "height": 266
        }
      },
      "source": [
        "ferry_sum"
      ],
      "execution_count": null,
      "outputs": [
        {
          "output_type": "execute_result",
          "data": {
            "text/html": [
              "<div>\n",
              "<style scoped>\n",
              "    .dataframe tbody tr th:only-of-type {\n",
              "        vertical-align: middle;\n",
              "    }\n",
              "\n",
              "    .dataframe tbody tr th {\n",
              "        vertical-align: top;\n",
              "    }\n",
              "\n",
              "    .dataframe thead th {\n",
              "        text-align: right;\n",
              "    }\n",
              "</style>\n",
              "<table border=\"1\" class=\"dataframe\">\n",
              "  <thead>\n",
              "    <tr style=\"text-align: right;\">\n",
              "      <th></th>\n",
              "      <th>receipt_dttm</th>\n",
              "      <th>adstrd_code</th>\n",
              "      <th>mrhst_induty_cl_code</th>\n",
              "      <th>selng_cascnt</th>\n",
              "      <th>salamt</th>\n",
              "    </tr>\n",
              "    <tr>\n",
              "      <th>month</th>\n",
              "      <th></th>\n",
              "      <th></th>\n",
              "      <th></th>\n",
              "      <th></th>\n",
              "      <th></th>\n",
              "    </tr>\n",
              "  </thead>\n",
              "  <tbody>\n",
              "    <tr>\n",
              "      <th>1</th>\n",
              "      <td>424202652</td>\n",
              "      <td>24211134100</td>\n",
              "      <td>23562</td>\n",
              "      <td>20150</td>\n",
              "      <td>794992717</td>\n",
              "    </tr>\n",
              "    <tr>\n",
              "      <th>2</th>\n",
              "      <td>1171612646</td>\n",
              "      <td>67039173700</td>\n",
              "      <td>65076</td>\n",
              "      <td>32726</td>\n",
              "      <td>1419942518</td>\n",
              "    </tr>\n",
              "    <tr>\n",
              "      <th>3</th>\n",
              "      <td>1898829699</td>\n",
              "      <td>108741160700</td>\n",
              "      <td>105468</td>\n",
              "      <td>53937</td>\n",
              "      <td>1978046472</td>\n",
              "    </tr>\n",
              "    <tr>\n",
              "      <th>4</th>\n",
              "      <td>1797836972</td>\n",
              "      <td>102954880100</td>\n",
              "      <td>99858</td>\n",
              "      <td>63172</td>\n",
              "      <td>2361497957</td>\n",
              "    </tr>\n",
              "    <tr>\n",
              "      <th>5</th>\n",
              "      <td>1898848501</td>\n",
              "      <td>108756158600</td>\n",
              "      <td>105468</td>\n",
              "      <td>88287</td>\n",
              "      <td>3581443871</td>\n",
              "    </tr>\n",
              "    <tr>\n",
              "      <th>6</th>\n",
              "      <td>909027342</td>\n",
              "      <td>52046480300</td>\n",
              "      <td>50490</td>\n",
              "      <td>39182</td>\n",
              "      <td>3800497590</td>\n",
              "    </tr>\n",
              "  </tbody>\n",
              "</table>\n",
              "</div>"
            ],
            "text/plain": [
              "       receipt_dttm   adstrd_code  ...  selng_cascnt      salamt\n",
              "month                              ...                          \n",
              "1         424202652   24211134100  ...         20150   794992717\n",
              "2        1171612646   67039173700  ...         32726  1419942518\n",
              "3        1898829699  108741160700  ...         53937  1978046472\n",
              "4        1797836972  102954880100  ...         63172  2361497957\n",
              "5        1898848501  108756158600  ...         88287  3581443871\n",
              "6         909027342   52046480300  ...         39182  3800497590\n",
              "\n",
              "[6 rows x 5 columns]"
            ]
          },
          "metadata": {
            "tags": []
          },
          "execution_count": 19
        }
      ]
    },
    {
      "cell_type": "code",
      "metadata": {
        "id": "OiR7VrXG967m",
        "outputId": "4e0c2783-a5b6-4b04-8ab2-4c9dc067fd6d",
        "colab": {
          "base_uri": "https://localhost:8080/",
          "height": 266
        }
      },
      "source": [
        "bus_sum"
      ],
      "execution_count": null,
      "outputs": [
        {
          "output_type": "execute_result",
          "data": {
            "text/html": [
              "<div>\n",
              "<style scoped>\n",
              "    .dataframe tbody tr th:only-of-type {\n",
              "        vertical-align: middle;\n",
              "    }\n",
              "\n",
              "    .dataframe tbody tr th {\n",
              "        vertical-align: top;\n",
              "    }\n",
              "\n",
              "    .dataframe thead th {\n",
              "        text-align: right;\n",
              "    }\n",
              "</style>\n",
              "<table border=\"1\" class=\"dataframe\">\n",
              "  <thead>\n",
              "    <tr style=\"text-align: right;\">\n",
              "      <th></th>\n",
              "      <th>receipt_dttm</th>\n",
              "      <th>adstrd_code</th>\n",
              "      <th>mrhst_induty_cl_code</th>\n",
              "      <th>selng_cascnt</th>\n",
              "      <th>salamt</th>\n",
              "    </tr>\n",
              "    <tr>\n",
              "      <th>month</th>\n",
              "      <th></th>\n",
              "      <th></th>\n",
              "      <th></th>\n",
              "      <th></th>\n",
              "      <th></th>\n",
              "    </tr>\n",
              "  </thead>\n",
              "  <tbody>\n",
              "    <tr>\n",
              "      <th>1</th>\n",
              "      <td>1252407839</td>\n",
              "      <td>71353508000</td>\n",
              "      <td>69440</td>\n",
              "      <td>230731</td>\n",
              "      <td>2962775980</td>\n",
              "    </tr>\n",
              "    <tr>\n",
              "      <th>2</th>\n",
              "      <td>2565427589</td>\n",
              "      <td>146170687100</td>\n",
              "      <td>142240</td>\n",
              "      <td>361586</td>\n",
              "      <td>4374775810</td>\n",
              "    </tr>\n",
              "    <tr>\n",
              "      <th>3</th>\n",
              "      <td>3575455830</td>\n",
              "      <td>203715930100</td>\n",
              "      <td>198240</td>\n",
              "      <td>287695</td>\n",
              "      <td>3206740580</td>\n",
              "    </tr>\n",
              "    <tr>\n",
              "      <th>4</th>\n",
              "      <td>2444250263</td>\n",
              "      <td>139289903000</td>\n",
              "      <td>135520</td>\n",
              "      <td>327347</td>\n",
              "      <td>3629714430</td>\n",
              "    </tr>\n",
              "    <tr>\n",
              "      <th>5</th>\n",
              "      <td>2565465541</td>\n",
              "      <td>146133283100</td>\n",
              "      <td>142240</td>\n",
              "      <td>460868</td>\n",
              "      <td>5261811270</td>\n",
              "    </tr>\n",
              "    <tr>\n",
              "      <th>6</th>\n",
              "      <td>1131234020</td>\n",
              "      <td>64466655400</td>\n",
              "      <td>62720</td>\n",
              "      <td>213939</td>\n",
              "      <td>5221373400</td>\n",
              "    </tr>\n",
              "  </tbody>\n",
              "</table>\n",
              "</div>"
            ],
            "text/plain": [
              "       receipt_dttm   adstrd_code  ...  selng_cascnt      salamt\n",
              "month                              ...                          \n",
              "1        1252407839   71353508000  ...        230731  2962775980\n",
              "2        2565427589  146170687100  ...        361586  4374775810\n",
              "3        3575455830  203715930100  ...        287695  3206740580\n",
              "4        2444250263  139289903000  ...        327347  3629714430\n",
              "5        2565465541  146133283100  ...        460868  5261811270\n",
              "6        1131234020   64466655400  ...        213939  5221373400\n",
              "\n",
              "[6 rows x 5 columns]"
            ]
          },
          "metadata": {
            "tags": []
          },
          "execution_count": 20
        }
      ]
    },
    {
      "cell_type": "code",
      "metadata": {
        "id": "J0P4l-uG-RDr",
        "outputId": "41b324c3-6157-43bf-b9d0-cd713f0e905d",
        "colab": {
          "base_uri": "https://localhost:8080/",
          "height": 266
        }
      },
      "source": [
        "every_sum = pd.concat([tour_sum.salamt, rentcar_sum.salamt, dutyfree_sum.salamt, airline_sum.salamt, ferry_sum.salamt, bus_sum.salamt], axis = 1)\n",
        "every_sum.columns = ['tour', 'rentcar', 'dutyfree', 'airline', 'ferry', 'bus']\n",
        "every_sum"
      ],
      "execution_count": null,
      "outputs": [
        {
          "output_type": "execute_result",
          "data": {
            "text/html": [
              "<div>\n",
              "<style scoped>\n",
              "    .dataframe tbody tr th:only-of-type {\n",
              "        vertical-align: middle;\n",
              "    }\n",
              "\n",
              "    .dataframe tbody tr th {\n",
              "        vertical-align: top;\n",
              "    }\n",
              "\n",
              "    .dataframe thead th {\n",
              "        text-align: right;\n",
              "    }\n",
              "</style>\n",
              "<table border=\"1\" class=\"dataframe\">\n",
              "  <thead>\n",
              "    <tr style=\"text-align: right;\">\n",
              "      <th></th>\n",
              "      <th>tour</th>\n",
              "      <th>rentcar</th>\n",
              "      <th>dutyfree</th>\n",
              "      <th>airline</th>\n",
              "      <th>ferry</th>\n",
              "      <th>bus</th>\n",
              "    </tr>\n",
              "    <tr>\n",
              "      <th>month</th>\n",
              "      <th></th>\n",
              "      <th></th>\n",
              "      <th></th>\n",
              "      <th></th>\n",
              "      <th></th>\n",
              "      <th></th>\n",
              "    </tr>\n",
              "  </thead>\n",
              "  <tbody>\n",
              "    <tr>\n",
              "      <th>1</th>\n",
              "      <td>14515564097</td>\n",
              "      <td>1062554535</td>\n",
              "      <td>19920968010</td>\n",
              "      <td>84021067185</td>\n",
              "      <td>794992717</td>\n",
              "      <td>2962775980</td>\n",
              "    </tr>\n",
              "    <tr>\n",
              "      <th>2</th>\n",
              "      <td>3077039119</td>\n",
              "      <td>2132705868</td>\n",
              "      <td>12321127045</td>\n",
              "      <td>21209839685</td>\n",
              "      <td>1419942518</td>\n",
              "      <td>4374775810</td>\n",
              "    </tr>\n",
              "    <tr>\n",
              "      <th>3</th>\n",
              "      <td>730158781</td>\n",
              "      <td>2438105735</td>\n",
              "      <td>4781544539</td>\n",
              "      <td>-6197703234</td>\n",
              "      <td>1978046472</td>\n",
              "      <td>3206740580</td>\n",
              "    </tr>\n",
              "    <tr>\n",
              "      <th>4</th>\n",
              "      <td>1451840918</td>\n",
              "      <td>2856342632</td>\n",
              "      <td>546196233</td>\n",
              "      <td>-4320286708</td>\n",
              "      <td>2361497957</td>\n",
              "      <td>3629714430</td>\n",
              "    </tr>\n",
              "    <tr>\n",
              "      <th>5</th>\n",
              "      <td>1605042749</td>\n",
              "      <td>2770062161</td>\n",
              "      <td>685603328</td>\n",
              "      <td>8880507006</td>\n",
              "      <td>3581443871</td>\n",
              "      <td>5261811270</td>\n",
              "    </tr>\n",
              "    <tr>\n",
              "      <th>6</th>\n",
              "      <td>1407262748</td>\n",
              "      <td>2161188927</td>\n",
              "      <td>561510152</td>\n",
              "      <td>11712835032</td>\n",
              "      <td>3800497590</td>\n",
              "      <td>5221373400</td>\n",
              "    </tr>\n",
              "  </tbody>\n",
              "</table>\n",
              "</div>"
            ],
            "text/plain": [
              "              tour     rentcar  ...       ferry         bus\n",
              "month                           ...                        \n",
              "1      14515564097  1062554535  ...   794992717  2962775980\n",
              "2       3077039119  2132705868  ...  1419942518  4374775810\n",
              "3        730158781  2438105735  ...  1978046472  3206740580\n",
              "4       1451840918  2856342632  ...  2361497957  3629714430\n",
              "5       1605042749  2770062161  ...  3581443871  5261811270\n",
              "6       1407262748  2161188927  ...  3800497590  5221373400\n",
              "\n",
              "[6 rows x 6 columns]"
            ]
          },
          "metadata": {
            "tags": []
          },
          "execution_count": 21
        }
      ]
    },
    {
      "cell_type": "code",
      "metadata": {
        "id": "z0ZKkmv0-iHl",
        "outputId": "e7b4acdb-b4d2-4508-96f0-ddfad568bb7b",
        "colab": {
          "base_uri": "https://localhost:8080/",
          "height": 293
        }
      },
      "source": [
        "plt.plot(every_sum.tour, label = every_sum.columns[0])\n",
        "plt.plot(every_sum.rentcar, label = every_sum.columns[1])\n",
        "plt.plot(every_sum.dutyfree, label = every_sum.columns[2])\n",
        "plt.plot(every_sum.airline, label = every_sum.columns[3])\n",
        "plt.plot(every_sum.ferry, label = every_sum.columns[4])\n",
        "plt.plot(every_sum.bus, label = every_sum.columns[5])\n",
        "plt.axhline(y=0, color='grey', linestyle='--')\n",
        "plt.legend()"
      ],
      "execution_count": null,
      "outputs": [
        {
          "output_type": "execute_result",
          "data": {
            "text/plain": [
              "<matplotlib.legend.Legend at 0x7fa0d0698d68>"
            ]
          },
          "metadata": {
            "tags": []
          },
          "execution_count": 22
        },
        {
          "output_type": "display_data",
          "data": {
            "image/png": "[encoded data removed]",
            "text/plain": [
              "<Figure size 432x288 with 1 Axes>"
            ]
          },
          "metadata": {
            "tags": [],
            "needs_background": "light"
          }
        }
      ]
    },
    {
      "cell_type": "code",
      "metadata": {
        "id": "bUmrCnxm_xq7",
        "outputId": "8af81235-ba8c-45e7-c5e0-92bd67adbc8b",
        "colab": {
          "base_uri": "https://localhost:8080/",
          "height": 293
        }
      },
      "source": [
        "#airline 변동폭이 지나치게 커서 다른 변수들의 변동폭이 희미하게 보임 --> airline 제외하고 plot\n",
        "\n",
        "plt.plot(every_sum.tour, label = every_sum.columns[0])\n",
        "plt.plot(every_sum.rentcar, label = every_sum.columns[1])\n",
        "plt.plot(every_sum.dutyfree, label = every_sum.columns[2])\n",
        "\n",
        "plt.plot(every_sum.ferry, label = every_sum.columns[4])\n",
        "plt.plot(every_sum.bus, label = every_sum.columns[5])\n",
        "plt.legend()"
      ],
      "execution_count": null,
      "outputs": [
        {
          "output_type": "execute_result",
          "data": {
            "text/plain": [
              "<matplotlib.legend.Legend at 0x7fa0cd991d30>"
            ]
          },
          "metadata": {
            "tags": []
          },
          "execution_count": 23
        },
        {
          "output_type": "display_data",
          "data": {
            "image/png": "[encoded data removed]",
            "text/plain": [
              "<Figure size 432x288 with 1 Axes>"
            ]
          },
          "metadata": {
            "tags": [],
            "needs_background": "light"
          }
        }
      ]
    },
    {
      "cell_type": "markdown",
      "metadata": {
        "id": "4tBD7zifUNFD"
      },
      "source": [
        "감소 --> 면세점, 관광     /      \n",
        "증가 --> 렌트카, 여객선, 고속버스 (주로 국내여행)"
      ]
    },
    {
      "cell_type": "code",
      "metadata": {
        "id": "eDqoTje6UJDU",
        "outputId": "2528f7c1-3eae-43f9-a3ce-f268b2d613d1",
        "colab": {
          "base_uri": "https://localhost:8080/",
          "height": 266
        }
      },
      "source": [
        "every_sum"
      ],
      "execution_count": null,
      "outputs": [
        {
          "output_type": "execute_result",
          "data": {
            "text/html": [
              "<div>\n",
              "<style scoped>\n",
              "    .dataframe tbody tr th:only-of-type {\n",
              "        vertical-align: middle;\n",
              "    }\n",
              "\n",
              "    .dataframe tbody tr th {\n",
              "        vertical-align: top;\n",
              "    }\n",
              "\n",
              "    .dataframe thead th {\n",
              "        text-align: right;\n",
              "    }\n",
              "</style>\n",
              "<table border=\"1\" class=\"dataframe\">\n",
              "  <thead>\n",
              "    <tr style=\"text-align: right;\">\n",
              "      <th></th>\n",
              "      <th>tour</th>\n",
              "      <th>rentcar</th>\n",
              "      <th>dutyfree</th>\n",
              "      <th>airline</th>\n",
              "      <th>ferry</th>\n",
              "      <th>bus</th>\n",
              "    </tr>\n",
              "    <tr>\n",
              "      <th>month</th>\n",
              "      <th></th>\n",
              "      <th></th>\n",
              "      <th></th>\n",
              "      <th></th>\n",
              "      <th></th>\n",
              "      <th></th>\n",
              "    </tr>\n",
              "  </thead>\n",
              "  <tbody>\n",
              "    <tr>\n",
              "      <th>1</th>\n",
              "      <td>14515564097</td>\n",
              "      <td>1062554535</td>\n",
              "      <td>19920968010</td>\n",
              "      <td>84021067185</td>\n",
              "      <td>794992717</td>\n",
              "      <td>2962775980</td>\n",
              "    </tr>\n",
              "    <tr>\n",
              "      <th>2</th>\n",
              "      <td>3077039119</td>\n",
              "      <td>2132705868</td>\n",
              "      <td>12321127045</td>\n",
              "      <td>21209839685</td>\n",
              "      <td>1419942518</td>\n",
              "      <td>4374775810</td>\n",
              "    </tr>\n",
              "    <tr>\n",
              "      <th>3</th>\n",
              "      <td>730158781</td>\n",
              "      <td>2438105735</td>\n",
              "      <td>4781544539</td>\n",
              "      <td>-6197703234</td>\n",
              "      <td>1978046472</td>\n",
              "      <td>3206740580</td>\n",
              "    </tr>\n",
              "    <tr>\n",
              "      <th>4</th>\n",
              "      <td>1451840918</td>\n",
              "      <td>2856342632</td>\n",
              "      <td>546196233</td>\n",
              "      <td>-4320286708</td>\n",
              "      <td>2361497957</td>\n",
              "      <td>3629714430</td>\n",
              "    </tr>\n",
              "    <tr>\n",
              "      <th>5</th>\n",
              "      <td>1605042749</td>\n",
              "      <td>2770062161</td>\n",
              "      <td>685603328</td>\n",
              "      <td>8880507006</td>\n",
              "      <td>3581443871</td>\n",
              "      <td>5261811270</td>\n",
              "    </tr>\n",
              "    <tr>\n",
              "      <th>6</th>\n",
              "      <td>1407262748</td>\n",
              "      <td>2161188927</td>\n",
              "      <td>561510152</td>\n",
              "      <td>11712835032</td>\n",
              "      <td>3800497590</td>\n",
              "      <td>5221373400</td>\n",
              "    </tr>\n",
              "  </tbody>\n",
              "</table>\n",
              "</div>"
            ],
            "text/plain": [
              "              tour     rentcar  ...       ferry         bus\n",
              "month                           ...                        \n",
              "1      14515564097  1062554535  ...   794992717  2962775980\n",
              "2       3077039119  2132705868  ...  1419942518  4374775810\n",
              "3        730158781  2438105735  ...  1978046472  3206740580\n",
              "4       1451840918  2856342632  ...  2361497957  3629714430\n",
              "5       1605042749  2770062161  ...  3581443871  5261811270\n",
              "6       1407262748  2161188927  ...  3800497590  5221373400\n",
              "\n",
              "[6 rows x 6 columns]"
            ]
          },
          "metadata": {
            "tags": []
          },
          "execution_count": 24
        }
      ]
    },
    {
      "cell_type": "markdown",
      "metadata": {
        "id": "G2LIOCI6h1Qd"
      },
      "source": [
        "### **소비 변화량**"
      ]
    },
    {
      "cell_type": "code",
      "metadata": {
        "id": "xMgFDIyfhzwV"
      },
      "source": [
        "every_sum_temp = every_sum.copy()\n",
        "#적자를 기록한 항공 업종의 경우 ValueError 발생 가능하므로 0에 가까운 값으로 변환\n",
        "every_sum_temp.loc[every_sum.airline<0,'airline'] = 1e-6"
      ],
      "execution_count": null,
      "outputs": []
    },
    {
      "cell_type": "code",
      "metadata": {
        "id": "KOq1UdB1hkJS",
        "outputId": "de272514-16a8-43ea-d13a-6f9ec50292d3",
        "colab": {
          "base_uri": "https://localhost:8080/",
          "height": 266
        }
      },
      "source": [
        "every_sum_temp"
      ],
      "execution_count": null,
      "outputs": [
        {
          "output_type": "execute_result",
          "data": {
            "text/html": [
              "<div>\n",
              "<style scoped>\n",
              "    .dataframe tbody tr th:only-of-type {\n",
              "        vertical-align: middle;\n",
              "    }\n",
              "\n",
              "    .dataframe tbody tr th {\n",
              "        vertical-align: top;\n",
              "    }\n",
              "\n",
              "    .dataframe thead th {\n",
              "        text-align: right;\n",
              "    }\n",
              "</style>\n",
              "<table border=\"1\" class=\"dataframe\">\n",
              "  <thead>\n",
              "    <tr style=\"text-align: right;\">\n",
              "      <th></th>\n",
              "      <th>tour</th>\n",
              "      <th>rentcar</th>\n",
              "      <th>dutyfree</th>\n",
              "      <th>airline</th>\n",
              "      <th>ferry</th>\n",
              "      <th>bus</th>\n",
              "    </tr>\n",
              "    <tr>\n",
              "      <th>month</th>\n",
              "      <th></th>\n",
              "      <th></th>\n",
              "      <th></th>\n",
              "      <th></th>\n",
              "      <th></th>\n",
              "      <th></th>\n",
              "    </tr>\n",
              "  </thead>\n",
              "  <tbody>\n",
              "    <tr>\n",
              "      <th>1</th>\n",
              "      <td>14515564097</td>\n",
              "      <td>1062554535</td>\n",
              "      <td>19920968010</td>\n",
              "      <td>8.402107e+10</td>\n",
              "      <td>794992717</td>\n",
              "      <td>2962775980</td>\n",
              "    </tr>\n",
              "    <tr>\n",
              "      <th>2</th>\n",
              "      <td>3077039119</td>\n",
              "      <td>2132705868</td>\n",
              "      <td>12321127045</td>\n",
              "      <td>2.120984e+10</td>\n",
              "      <td>1419942518</td>\n",
              "      <td>4374775810</td>\n",
              "    </tr>\n",
              "    <tr>\n",
              "      <th>3</th>\n",
              "      <td>730158781</td>\n",
              "      <td>2438105735</td>\n",
              "      <td>4781544539</td>\n",
              "      <td>1.000000e-06</td>\n",
              "      <td>1978046472</td>\n",
              "      <td>3206740580</td>\n",
              "    </tr>\n",
              "    <tr>\n",
              "      <th>4</th>\n",
              "      <td>1451840918</td>\n",
              "      <td>2856342632</td>\n",
              "      <td>546196233</td>\n",
              "      <td>1.000000e-06</td>\n",
              "      <td>2361497957</td>\n",
              "      <td>3629714430</td>\n",
              "    </tr>\n",
              "    <tr>\n",
              "      <th>5</th>\n",
              "      <td>1605042749</td>\n",
              "      <td>2770062161</td>\n",
              "      <td>685603328</td>\n",
              "      <td>8.880507e+09</td>\n",
              "      <td>3581443871</td>\n",
              "      <td>5261811270</td>\n",
              "    </tr>\n",
              "    <tr>\n",
              "      <th>6</th>\n",
              "      <td>1407262748</td>\n",
              "      <td>2161188927</td>\n",
              "      <td>561510152</td>\n",
              "      <td>1.171284e+10</td>\n",
              "      <td>3800497590</td>\n",
              "      <td>5221373400</td>\n",
              "    </tr>\n",
              "  </tbody>\n",
              "</table>\n",
              "</div>"
            ],
            "text/plain": [
              "              tour     rentcar  ...       ferry         bus\n",
              "month                           ...                        \n",
              "1      14515564097  1062554535  ...   794992717  2962775980\n",
              "2       3077039119  2132705868  ...  1419942518  4374775810\n",
              "3        730158781  2438105735  ...  1978046472  3206740580\n",
              "4       1451840918  2856342632  ...  2361497957  3629714430\n",
              "5       1605042749  2770062161  ...  3581443871  5261811270\n",
              "6       1407262748  2161188927  ...  3800497590  5221373400\n",
              "\n",
              "[6 rows x 6 columns]"
            ]
          },
          "metadata": {
            "tags": []
          },
          "execution_count": 26
        }
      ]
    },
    {
      "cell_type": "code",
      "metadata": {
        "id": "4J7-fxA0iLtd"
      },
      "source": [
        "#소비변화량 index 만들기\n",
        "\n",
        "cat = every_sum_temp.columns\n",
        "var2 = [x/y if y != 0 else 0 for x,y in zip((every_sum_temp[every_sum_temp.index == 2].T)[2], (every_sum_temp[every_sum_temp.index == 1].T)[1])]\n",
        "var3 = [x/y if y != 0 else 0 for x,y in zip((every_sum_temp[every_sum_temp.index == 3].T)[3], (every_sum_temp[every_sum_temp.index == 2].T)[2])]\n",
        "var_data = pd.DataFrame({'cat':cat,'var_2':var2,'var_3':var3})\n",
        "var_data['var_index'] = [np.sqrt(x*y)-1 for x,y in zip(var_data.var_2,var_data.var_3)]"
      ],
      "execution_count": null,
      "outputs": []
    },
    {
      "cell_type": "code",
      "metadata": {
        "id": "Ies5_rSplUWb",
        "outputId": "a9a6eb86-4b44-46fb-b14c-a633d9a9ff07",
        "colab": {
          "base_uri": "https://localhost:8080/",
          "height": 235
        }
      },
      "source": [
        "var_data"
      ],
      "execution_count": null,
      "outputs": [
        {
          "output_type": "execute_result",
          "data": {
            "text/html": [
              "<div>\n",
              "<style scoped>\n",
              "    .dataframe tbody tr th:only-of-type {\n",
              "        vertical-align: middle;\n",
              "    }\n",
              "\n",
              "    .dataframe tbody tr th {\n",
              "        vertical-align: top;\n",
              "    }\n",
              "\n",
              "    .dataframe thead th {\n",
              "        text-align: right;\n",
              "    }\n",
              "</style>\n",
              "<table border=\"1\" class=\"dataframe\">\n",
              "  <thead>\n",
              "    <tr style=\"text-align: right;\">\n",
              "      <th></th>\n",
              "      <th>cat</th>\n",
              "      <th>var_2</th>\n",
              "      <th>var_3</th>\n",
              "      <th>var_index</th>\n",
              "    </tr>\n",
              "  </thead>\n",
              "  <tbody>\n",
              "    <tr>\n",
              "      <th>0</th>\n",
              "      <td>tour</td>\n",
              "      <td>0.211982</td>\n",
              "      <td>2.372927e-01</td>\n",
              "      <td>-0.775719</td>\n",
              "    </tr>\n",
              "    <tr>\n",
              "      <th>1</th>\n",
              "      <td>rentcar</td>\n",
              "      <td>2.007150</td>\n",
              "      <td>1.143198e+00</td>\n",
              "      <td>0.514784</td>\n",
              "    </tr>\n",
              "    <tr>\n",
              "      <th>2</th>\n",
              "      <td>dutyfree</td>\n",
              "      <td>0.618500</td>\n",
              "      <td>3.880769e-01</td>\n",
              "      <td>-0.510076</td>\n",
              "    </tr>\n",
              "    <tr>\n",
              "      <th>3</th>\n",
              "      <td>airline</td>\n",
              "      <td>0.252435</td>\n",
              "      <td>4.714793e-17</td>\n",
              "      <td>-1.000000</td>\n",
              "    </tr>\n",
              "    <tr>\n",
              "      <th>4</th>\n",
              "      <td>ferry</td>\n",
              "      <td>1.786108</td>\n",
              "      <td>1.393047e+00</td>\n",
              "      <td>0.577381</td>\n",
              "    </tr>\n",
              "    <tr>\n",
              "      <th>5</th>\n",
              "      <td>bus</td>\n",
              "      <td>1.476580</td>\n",
              "      <td>7.330068e-01</td>\n",
              "      <td>0.040357</td>\n",
              "    </tr>\n",
              "  </tbody>\n",
              "</table>\n",
              "</div>"
            ],
            "text/plain": [
              "        cat     var_2         var_3  var_index\n",
              "0      tour  0.211982  2.372927e-01  -0.775719\n",
              "1   rentcar  2.007150  1.143198e+00   0.514784\n",
              "2  dutyfree  0.618500  3.880769e-01  -0.510076\n",
              "3   airline  0.252435  4.714793e-17  -1.000000\n",
              "4     ferry  1.786108  1.393047e+00   0.577381\n",
              "5       bus  1.476580  7.330068e-01   0.040357"
            ]
          },
          "metadata": {
            "tags": []
          },
          "execution_count": 28
        }
      ]
    },
    {
      "cell_type": "code",
      "metadata": {
        "id": "rI_dsUcGla06",
        "outputId": "47a6f8a4-1dc2-4a24-b418-80c969856556",
        "colab": {
          "base_uri": "https://localhost:8080/",
          "height": 583
        }
      },
      "source": [
        "import matplotlib.font_manager as fm\n",
        "from plotnine.data import economics\n",
        "from plotnine import *\n",
        "\n",
        "import matplotlib.font_manager as fm\n",
        "#font_location = '/content/NanumBarunGothic.ttf'\n",
        "#font_name = fm.FontProperties(fname = font_location).get_name()\n",
        "\n",
        "(ggplot(data=var_data,mapping=aes(x='cat',y='var_index'))\n",
        "+geom_bar(stat='identity',mapping =aes(fill='cat'),show_legend=False)\n",
        "+theme(text=element_text())\n",
        "+theme(figure_size=(10,5),axis_text_x=element_text(size=15,angle=80))\n",
        "+geom_hline(yintercept=0,size=1)\n",
        "+annotate(geom='text',x=5,y=0.05,label='Positive Effect',va='bottom',ha='left',size=15,color='b')\n",
        "+annotate(geom='text',x=5,y=-0.05,label='Negative Effect',va='top',ha='left',size=15,color='r')\n",
        "+ggtitle('Variation of All Categories')\n",
        "+scale_fill_hue(l=0.65)\n",
        ")"
      ],
      "execution_count": null,
      "outputs": [
        {
          "output_type": "display_data",
          "data": {
            "image/png": "[encoded data removed]",
            "text/plain": [
              "<Figure size 1000x500 with 1 Axes>"
            ]
          },
          "metadata": {
            "tags": []
          }
        },
        {
          "output_type": "execute_result",
          "data": {
            "text/plain": [
              "<ggplot: (-9223363266332770416)>"
            ]
          },
          "metadata": {
            "tags": []
          },
          "execution_count": 38
        }
      ]
    },
    {
      "cell_type": "markdown",
      "metadata": {
        "id": "zCsX8VqjmCxE"
      },
      "source": [
        "### **소비량 회복속도**"
      ]
    },
    {
      "cell_type": "code",
      "metadata": {
        "id": "hhicUb2Slh5C"
      },
      "source": [
        "#소비량 회복속도 index 만들기\n",
        "\n",
        "res4 = [(x-y)/y for x,y in zip((every_sum_temp[every_sum_temp.index == 4].T)[4],(every_sum_temp[every_sum_temp.index == 3].T)[3])]\n",
        "res5 = [(x-y)/y for x,y in zip((every_sum_temp[every_sum_temp.index == 5].T)[5],(every_sum_temp[every_sum_temp.index == 4].T)[4])]\n",
        "res_data = pd.DataFrame({'cat':cat,'res4':res4,'res5':res5})\n",
        "res_data['res_index'] = (res_data.res5 + res_data.res4)/2\n",
        "res_data.loc[res_data.cat=='airline','res_index'] =1\n",
        "res_data['res_index_abs'] = abs((res_data.res5 + res_data.res4)/2)\n",
        "res_data.loc[res_data.cat=='airline','res_index_abs'] =1"
      ],
      "execution_count": null,
      "outputs": []
    },
    {
      "cell_type": "code",
      "metadata": {
        "id": "CcE6PzUDme7U",
        "outputId": "6667afdd-5d9e-4cd5-c9b9-2c4c0756119d",
        "colab": {
          "base_uri": "https://localhost:8080/",
          "height": 235
        }
      },
      "source": [
        "res_data"
      ],
      "execution_count": null,
      "outputs": [
        {
          "output_type": "execute_result",
          "data": {
            "text/html": [
              "<div>\n",
              "<style scoped>\n",
              "    .dataframe tbody tr th:only-of-type {\n",
              "        vertical-align: middle;\n",
              "    }\n",
              "\n",
              "    .dataframe tbody tr th {\n",
              "        vertical-align: top;\n",
              "    }\n",
              "\n",
              "    .dataframe thead th {\n",
              "        text-align: right;\n",
              "    }\n",
              "</style>\n",
              "<table border=\"1\" class=\"dataframe\">\n",
              "  <thead>\n",
              "    <tr style=\"text-align: right;\">\n",
              "      <th></th>\n",
              "      <th>cat</th>\n",
              "      <th>res4</th>\n",
              "      <th>res5</th>\n",
              "      <th>res_index</th>\n",
              "      <th>res_index_abs</th>\n",
              "    </tr>\n",
              "  </thead>\n",
              "  <tbody>\n",
              "    <tr>\n",
              "      <th>0</th>\n",
              "      <td>tour</td>\n",
              "      <td>0.988391</td>\n",
              "      <td>1.055225e-01</td>\n",
              "      <td>0.546957</td>\n",
              "      <td>0.546957</td>\n",
              "    </tr>\n",
              "    <tr>\n",
              "      <th>1</th>\n",
              "      <td>rentcar</td>\n",
              "      <td>0.171542</td>\n",
              "      <td>-3.020663e-02</td>\n",
              "      <td>0.070668</td>\n",
              "      <td>0.070668</td>\n",
              "    </tr>\n",
              "    <tr>\n",
              "      <th>2</th>\n",
              "      <td>dutyfree</td>\n",
              "      <td>-0.885770</td>\n",
              "      <td>2.552326e-01</td>\n",
              "      <td>-0.315269</td>\n",
              "      <td>0.315269</td>\n",
              "    </tr>\n",
              "    <tr>\n",
              "      <th>3</th>\n",
              "      <td>airline</td>\n",
              "      <td>0.000000</td>\n",
              "      <td>8.880507e+15</td>\n",
              "      <td>1.000000</td>\n",
              "      <td>1.000000</td>\n",
              "    </tr>\n",
              "    <tr>\n",
              "      <th>4</th>\n",
              "      <td>ferry</td>\n",
              "      <td>0.193854</td>\n",
              "      <td>5.165983e-01</td>\n",
              "      <td>0.355226</td>\n",
              "      <td>0.355226</td>\n",
              "    </tr>\n",
              "    <tr>\n",
              "      <th>5</th>\n",
              "      <td>bus</td>\n",
              "      <td>0.131901</td>\n",
              "      <td>4.496488e-01</td>\n",
              "      <td>0.290775</td>\n",
              "      <td>0.290775</td>\n",
              "    </tr>\n",
              "  </tbody>\n",
              "</table>\n",
              "</div>"
            ],
            "text/plain": [
              "        cat      res4          res5  res_index  res_index_abs\n",
              "0      tour  0.988391  1.055225e-01   0.546957       0.546957\n",
              "1   rentcar  0.171542 -3.020663e-02   0.070668       0.070668\n",
              "2  dutyfree -0.885770  2.552326e-01  -0.315269       0.315269\n",
              "3   airline  0.000000  8.880507e+15   1.000000       1.000000\n",
              "4     ferry  0.193854  5.165983e-01   0.355226       0.355226\n",
              "5       bus  0.131901  4.496488e-01   0.290775       0.290775"
            ]
          },
          "metadata": {
            "tags": []
          },
          "execution_count": 31
        }
      ]
    },
    {
      "cell_type": "code",
      "metadata": {
        "id": "Do7ulxyimhH-",
        "outputId": "f5d29f4b-7757-44d8-acad-ef2d6541f7c9",
        "colab": {
          "base_uri": "https://localhost:8080/",
          "height": 583
        }
      },
      "source": [
        "#전체 업종 추이\n",
        "\n",
        "(ggplot(data=res_data,mapping=aes(x='cat',y='res_index'))\n",
        "+geom_bar(stat='identity',mapping =aes(fill='cat'),show_legend=False)\n",
        "+theme(text=element_text())\n",
        "+theme(figure_size=(10,5),axis_text_x=element_text(size=15,angle=80))\n",
        "+geom_hline(yintercept=0)\n",
        "+ggtitle('Resilience of All Categories')\n",
        "+scale_fill_hue(l=0.65)\n",
        ")"
      ],
      "execution_count": null,
      "outputs": [
        {
          "output_type": "display_data",
          "data": {
            "image/png": "[encoded data removed]",
            "text/plain": [
              "<Figure size 1000x500 with 1 Axes>"
            ]
          },
          "metadata": {
            "tags": []
          }
        },
        {
          "output_type": "execute_result",
          "data": {
            "text/plain": [
              "<ggplot: (-9223363266332744020)>"
            ]
          },
          "metadata": {
            "tags": []
          },
          "execution_count": 40
        }
      ]
    },
    {
      "cell_type": "markdown",
      "metadata": {
        "id": "Lh3PDA39pgvM"
      },
      "source": [
        "### **Risk-Resilience Matrix(타격-탄력성 분석)**"
      ]
    },
    {
      "cell_type": "markdown",
      "metadata": {
        "id": "5LGA-aj2pxbm"
      },
      "source": [
        "### **코로나 확진자 추이 분석**"
      ]
    },
    {
      "cell_type": "markdown",
      "metadata": {
        "id": "ryloYL_rp1Ze"
      },
      "source": [
        "### **코로나 확진자 추이와 카테고리 별 변화의 경향성**"
      ]
    }
  ]
}